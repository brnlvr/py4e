{
  "nbformat": 4,
  "nbformat_minor": 0,
  "metadata": {
    "colab": {
      "provenance": [],
      "authorship_tag": "ABX9TyPvb31mqNo3LDFylKOGBG8t",
      "include_colab_link": true
    },
    "kernelspec": {
      "name": "python3",
      "display_name": "Python 3"
    },
    "language_info": {
      "name": "python"
    }
  },
  "cells": [
    {
      "cell_type": "markdown",
      "metadata": {
        "id": "view-in-github",
        "colab_type": "text"
      },
      "source": [
        "<a href=\"https://colab.research.google.com/github/brnlvr/py4e/blob/main/urllib.ipynb\" target=\"_parent\"><img src=\"https://colab.research.google.com/assets/colab-badge.svg\" alt=\"Open In Colab\"/></a>"
      ]
    },
    {
      "cell_type": "code",
      "execution_count": 6,
      "metadata": {
        "colab": {
          "base_uri": "https://localhost:8080/"
        },
        "id": "7K4knZ7Hilwi",
        "outputId": "b3168517-063a-41de-cf2d-b33cc29e4a2d"
      },
      "outputs": [
        {
          "output_type": "stream",
          "name": "stdout",
          "text": [
            "Enter - http://py4e-data.dr-chuck.net/comments_2107404.html\n",
            "Count 50\n",
            "Sum 2820\n"
          ]
        }
      ],
      "source": [
        "from urllib.request import urlopen\n",
        "from bs4 import BeautifulSoup\n",
        "\n",
        "url = input('Enter - ')\n",
        "html = urlopen(url).read()\n",
        "soup = BeautifulSoup(html, 'html.parser')\n",
        "\n",
        "tags = soup.find_all('span')\n",
        "count = 0\n",
        "total_sum = 0\n",
        "\n",
        "for tag in tags:\n",
        "    count += 1\n",
        "    total_sum += int(tag.text)\n",
        "\n",
        "print(f'Count {count}')\n",
        "print(f'Sum {total_sum}')\n"
      ]
    }
  ]
}