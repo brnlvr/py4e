{
  "nbformat": 4,
  "nbformat_minor": 0,
  "metadata": {
    "colab": {
      "provenance": [],
      "authorship_tag": "ABX9TyP/qPLmAW7hqMSE/2hFPpTD",
      "include_colab_link": true
    },
    "kernelspec": {
      "name": "python3",
      "display_name": "Python 3"
    },
    "language_info": {
      "name": "python"
    }
  },
  "cells": [
    {
      "cell_type": "markdown",
      "metadata": {
        "id": "view-in-github",
        "colab_type": "text"
      },
      "source": [
        "<a href=\"https://colab.research.google.com/github/brnlvr/py4e/blob/main/xmlurl1.ipynb\" target=\"_parent\"><img src=\"https://colab.research.google.com/assets/colab-badge.svg\" alt=\"Open In Colab\"/></a>"
      ]
    },
    {
      "cell_type": "code",
      "execution_count": 2,
      "metadata": {
        "colab": {
          "base_uri": "https://localhost:8080/"
        },
        "id": "khbsYLEZYGQd",
        "outputId": "d9952162-0bdf-4a3b-b8fd-16d0fe529a12"
      },
      "outputs": [
        {
          "output_type": "stream",
          "name": "stdout",
          "text": [
            "Enter location: http://py4e-data.dr-chuck.net/comments_2107406.xml\n",
            "Retrieving http://py4e-data.dr-chuck.net/comments_2107406.xml\n",
            "Retrieved 4224 characters\n",
            "Count: 50\n",
            "Sum: 2817\n"
          ]
        }
      ],
      "source": [
        "import urllib.request\n",
        "import xml.etree.ElementTree as ET\n",
        "\n",
        "url = input('Enter location: ')\n",
        "print('Retrieving', url)\n",
        "\n",
        "request = urllib.request.urlopen(url)\n",
        "data = request.read()\n",
        "print('Retrieved', len(data), 'characters')\n",
        "\n",
        "tree = ET.fromstring(data)\n",
        "\n",
        "counts = tree.findall('.//count')\n",
        "total = 0\n",
        "for count in counts:\n",
        "    total += int(count.text)\n",
        "\n",
        "print('Count:', len(counts))\n",
        "print('Sum:', total)"
      ]
    }
  ]
}