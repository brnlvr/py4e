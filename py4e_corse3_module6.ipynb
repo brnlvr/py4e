{
  "nbformat": 4,
  "nbformat_minor": 0,
  "metadata": {
    "colab": {
      "provenance": [],
      "authorship_tag": "ABX9TyMTPXnVdmDce3LdZvPv7k8F",
      "include_colab_link": true
    },
    "kernelspec": {
      "name": "python3",
      "display_name": "Python 3"
    },
    "language_info": {
      "name": "python"
    }
  },
  "cells": [
    {
      "cell_type": "markdown",
      "metadata": {
        "id": "view-in-github",
        "colab_type": "text"
      },
      "source": [
        "<a href=\"https://colab.research.google.com/github/brnlvr/py4e/blob/main/py4e_corse3_module6.ipynb\" target=\"_parent\"><img src=\"https://colab.research.google.com/assets/colab-badge.svg\" alt=\"Open In Colab\"/></a>"
      ]
    },
    {
      "cell_type": "code",
      "execution_count": 7,
      "metadata": {
        "colab": {
          "base_uri": "https://localhost:8080/"
        },
        "id": "laBSF_R5zEOb",
        "outputId": "023ab8b0-2b0f-4148-e4fa-280a6e064b53"
      },
      "outputs": [
        {
          "output_type": "stream",
          "name": "stdout",
          "text": [
            "Enter location: Rochester Institute of Technology\n",
            "Retrieving http://py4e-data.dr-chuck.net/opengeo?q=Rochester+Institute+of+Technology\n",
            "Retrieved 1545 characters\n",
            "Plus code 87M438MG+3R\n"
          ]
        }
      ],
      "source": [
        "import urllib.request\n",
        "import urllib.parse\n",
        "import json\n",
        "\n",
        "serviceurl = 'http://py4e-data.dr-chuck.net/opengeo?'\n",
        "\n",
        "address = input('Enter location: ')\n",
        "parms = dict()\n",
        "parms['q'] = address\n",
        "\n",
        "url = serviceurl + urllib.parse.urlencode(parms)\n",
        "\n",
        "print('Retrieving', url)\n",
        "uh = urllib.request.urlopen(url)\n",
        "data = uh.read().decode()\n",
        "print('Retrieved', len(data), 'characters')\n",
        "\n",
        "js = json.loads(data)\n",
        "\n",
        "plus_code = js['features'][0]['properties']['plus_code']\n",
        "print(\"Plus code\", plus_code)"
      ]
    }
  ]
}