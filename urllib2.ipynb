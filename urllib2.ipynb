{
  "nbformat": 4,
  "nbformat_minor": 0,
  "metadata": {
    "colab": {
      "provenance": [],
      "authorship_tag": "ABX9TyNwPX8vkU4t1cAJua8Aylk3",
      "include_colab_link": true
    },
    "kernelspec": {
      "name": "python3",
      "display_name": "Python 3"
    },
    "language_info": {
      "name": "python"
    }
  },
  "cells": [
    {
      "cell_type": "markdown",
      "metadata": {
        "id": "view-in-github",
        "colab_type": "text"
      },
      "source": [
        "<a href=\"https://colab.research.google.com/github/brnlvr/py4e/blob/main/urllib2.ipynb\" target=\"_parent\"><img src=\"https://colab.research.google.com/assets/colab-badge.svg\" alt=\"Open In Colab\"/></a>"
      ]
    },
    {
      "cell_type": "code",
      "execution_count": 7,
      "metadata": {
        "colab": {
          "base_uri": "https://localhost:8080/"
        },
        "id": "DHU8u25smjKA",
        "outputId": "84049d29-8689-4246-d16b-641e14c96b41"
      },
      "outputs": [
        {
          "output_type": "stream",
          "name": "stdout",
          "text": [
            "Enter URL: http://py4e-data.dr-chuck.net/known_by_Millar.html\n",
            "Enter count: 7\n",
            "Enter position: 18\n",
            "Retrieving: http://py4e-data.dr-chuck.net/known_by_Millar.html\n",
            "Retrieving: http://py4e-data.dr-chuck.net/known_by_Terra.html\n",
            "Retrieving: http://py4e-data.dr-chuck.net/known_by_Ailin.html\n",
            "Retrieving: http://py4e-data.dr-chuck.net/known_by_Tristan.html\n",
            "Retrieving: http://py4e-data.dr-chuck.net/known_by_Kashuf.html\n",
            "Retrieving: http://py4e-data.dr-chuck.net/known_by_Rice.html\n",
            "Retrieving: http://py4e-data.dr-chuck.net/known_by_Sol.html\n",
            "The answer to the assignment is \"Nicola\".\n"
          ]
        }
      ],
      "source": [
        "import urllib.request\n",
        "from bs4 import BeautifulSoup\n",
        "\n",
        "url = input('Enter URL: ')\n",
        "count = int(input('Enter count: '))\n",
        "position = int(input('Enter position: '))\n",
        "\n",
        "for i in range(count):\n",
        "    print(f'Retrieving: {url}')\n",
        "    html = urllib.request.urlopen(url).read()\n",
        "    soup = BeautifulSoup(html, 'html.parser')\n",
        "    tags = soup.find_all('a')\n",
        "    link = tags[position - 1].get('href', None)\n",
        "    url = urllib.request.urljoin(url, link)\n",
        "name = link.split('_')[-1].split('.')[0]\n",
        "print(f'The answer to the assignment is \"{name}\".')"
      ]
    }
  ]
}